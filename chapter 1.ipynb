{
 "cells": [
  {
   "cell_type": "code",
   "execution_count": 1,
   "metadata": {},
   "outputs": [],
   "source": [
    "import pandas as pd\n",
    "import numpy as np\n",
    "import matplotlib.pyplot as plt\n",
    "from linearregression import *\n",
    "%matplotlib inline"
   ]
  },
  {
   "cell_type": "code",
   "execution_count": 2,
   "metadata": {},
   "outputs": [],
   "source": [
    "plt.rc('font', size=9, weight='light')\n",
    "plt.rc('axes', axisbelow=True)"
   ]
  },
  {
   "cell_type": "code",
   "execution_count": 3,
   "metadata": {},
   "outputs": [],
   "source": [
    "# load watershed attribute\n",
    "def load_attribute():\n",
    "    elev = pd.read_csv('./data/elev.csv', header=0, usecols=[2,9,10,11], names=['Name', 'Elev',\"MAX_Elev\", 'Precip'])\n",
    "    df1 = pd.read_excel('./data/Sediment Yield Field Data set_1 (Han River Watershed)/Data_set-Han_18May2016.xlsx',\n",
    "                        sheet_name='Han R.(H1~H4)',header=0,usecols=[3,4,5,6])\n",
    "    df2 = pd.read_excel('./data/Sediment Yield Field Data set_1 (Han River Watershed)/Data_set-Han_18May2016.xlsx',\n",
    "                        sheet_name='Han R.(H5~H7)',header=0,usecols=[3,4,5])\n",
    "    df3 = pd.read_excel('./data/Sediment Yield Field Data set_2 (Nakdong River Watershed)/Data_set-Nakdong_18May2016.xlsx',\n",
    "                        sheet_name='Nakdong R.(N1~N5)',header=0,usecols=[3,4,5,6,7])\n",
    "    df4 = pd.read_excel('./data/Sediment Yield Field Data set_2 (Nakdong River Watershed)/Data_set-Nakdong_18May2016.xlsx',\n",
    "                        sheet_name='Nakdong R.(N6~N10)',header=0,usecols=[3,4,5,6,7])\n",
    "    df5 = pd.read_excel('./data/Sediment Yield Field Data set_2 (Nakdong River Watershed)/Data_set-Nakdong_18May2016.xlsx',\n",
    "                        sheet_name='Nakdong R.(N11~N14)',header=0,usecols=[3,4,5,6])\n",
    "    df6 = pd.read_excel('./data/Sediment Yield Field Data set_5 (Seomjin River Watershed)/Data_set-Geum~Seomjin_18May2016.xlsx',\n",
    "                        sheet_name='Geum R.(G1~G5)',header=0,usecols=[3,4,5,6,7])\n",
    "    df7 = pd.read_excel('./data/Sediment Yield Field Data set_5 (Seomjin River Watershed)/Data_set-Geum~Seomjin_18May2016.xlsx',\n",
    "                        sheet_name='Yeongsan R.(Y1~Y5)',header=0,usecols=[3,4,5,6,7])\n",
    "    df8 = pd.read_excel('./data/Sediment Yield Field Data set_5 (Seomjin River Watershed)/Data_set-Geum~Seomjin_18May2016.xlsx',\n",
    "                        sheet_name='Seomjin R.(S1~S4)',header=0,usecols=[3,4,5,6])\n",
    "\n",
    "    dataList = [df1,df2,df3,df4,df5,df6,df7,df8]\n",
    "\n",
    "    def removeEmpty(dataframe):\n",
    "        df = np.array(dataframe)[3:35]\n",
    "        df = np.delete(df, [2,24], axis=0)\n",
    "        return df\n",
    "\n",
    "    def bedsize(dataframe):\n",
    "        df = dataframe.apply(pd.to_numeric, errors='coerce')\n",
    "        df = np.array(df)[35:43]\n",
    "\n",
    "        dmin = np.nanmin(np.float64(df),axis=0)\n",
    "        dmax = np.nanmax(np.float64(df),axis=0)\n",
    "        dmean = np.nanmean(np.float64(df),axis=0)\n",
    "        return np.vstack((dmin,dmax,dmean))\n",
    "    \n",
    "\n",
    "    id_list = []\n",
    "    for l in dataList:\n",
    "        for n in l.columns:\n",
    "            id_list.append(n)\n",
    "\n",
    "    processedDataList = []\n",
    "    for d in dataList:\n",
    "        att = removeEmpty(d)\n",
    "        bed = bedsize(d)\n",
    "        processed_d = np.concatenate((att,bed), axis=0)\n",
    "        processedDataList.append(processed_d)\n",
    "\n",
    "    attri_data = np.hstack((processedDataList[0],processedDataList[1],processedDataList[2],processedDataList[3],\n",
    "                       processedDataList[4],processedDataList[5],processedDataList[6],processedDataList[7]))\n",
    "    attri_data = np.transpose(attri_data)\n",
    "\n",
    "\n",
    "    attribute = pd.concat([pd.DataFrame(id_list,columns=['Name']),pd.DataFrame(np.float64(attri_data))],axis=1)\n",
    "    attribute.rename(columns = {0:'Area'}, inplace = True)\n",
    "\n",
    "    attribute = pd.merge(attribute, elev, on='Name')\n",
    "\n",
    "    col_name = ['Name', 'lon', 'lat','Area', 'Avg_slope', 'Perimeter', 'Main_length',\n",
    "                'Tributary_length', 'Total_length', 'Density', 'Width',\n",
    "                'Slope_at_station', 'clay0', 'silt0', 'sand0', 'clay10',\n",
    "                'silt10','sand10', 'clay30','silt30','sand30','clay50',\n",
    "                'silt50','sand50','Urban','Agriculture','Forest',\n",
    "                'Pasture','Wetland','Bare_land','Water','D_min', 'D_max', 'D_mean', 'Elev',\"Max_Elev\", 'Precip']\n",
    "    attribute.columns = col_name\n",
    "    attribute = attribute.set_index([\"Name\"])\n",
    "    return attribute\n",
    "\n",
    "attribute = load_attribute()"
   ]
  },
  {
   "cell_type": "code",
   "execution_count": 4,
   "metadata": {},
   "outputs": [],
   "source": [
    "mep_sy = [133.25, 529.71, 1101.3, 308.13, 453.4, 24.79, 90.21, 63.49, 49.68, 19.58, 46.02, 58, 4.52, 99.12, 33.72, 150.28,\n",
    "         74.63, 38.4, 47.59, 57.21, 47.82, 126.28, 127.56, 151.42, 59.72, 61.91, 97.43, 124.74, 163.58, 45.74, 40.34, 31.85,\n",
    "         44.4, 45.15, 28.43]"
   ]
  },
  {
   "cell_type": "code",
   "execution_count": 5,
   "metadata": {},
   "outputs": [],
   "source": [
    "def model_yoon(area, slope, ds):\n",
    "    return 2.65 * 43954 * area**0.464 * slope**-2 * ds**-0.855"
   ]
  },
  {
   "cell_type": "code",
   "execution_count": 6,
   "metadata": {},
   "outputs": [
    {
     "data": {
      "image/png": "[encoded data removed]",
      "text/plain": [
       "<Figure size 432x216 with 2 Axes>"
      ]
     },
     "metadata": {},
     "output_type": "display_data"
    }
   ],
   "source": [
    "fig, (ax1, ax2) = plt.subplots(1,2,figsize=(6,3))\n",
    "\n",
    "ax1.plot(mep_sy, 972*(attribute['Density']/1000)**1.039*attribute['D_min']**-0.825, 'x', label='min $d_{50}$')\n",
    "ax1.plot(mep_sy, 972*(attribute['Density']/1000)**1.039*attribute['D_max']**-0.825, 'go', label='max $d_{50}$')\n",
    "ax1.plot([mep_sy, mep_sy], [972*(attribute['Density']/1000)**1.039*attribute['D_min']**-0.825, 972*(attribute['Density']/1000)**1.039*attribute['D_max']**-0.825], 'k-', linewidth=1.3)\n",
    "ax1.plot([3,1800], [3, 1800], 'k-')\n",
    "\n",
    "\n",
    "ax2.plot(mep_sy, model_yoon(attribute['Area'], attribute['Avg_slope'], attribute['D_min'])*1.3, 'x', label='min $d_{50}$')\n",
    "ax2.plot(mep_sy, model_yoon(attribute['Area'], attribute['Avg_slope'], attribute['D_max'])*1.3, 'go', label='max $d_{50}$')\n",
    "ax2.plot([mep_sy, mep_sy], [model_yoon(attribute['Area'], attribute['Avg_slope'], attribute['D_min'])*1.3, 1.3*model_yoon(attribute['Area'], attribute['Avg_slope'], attribute['D_max'])], 'k-', linewidth=1.3)\n",
    "ax2.plot([2,45000], [2, 45000], 'k-')\n",
    "\n",
    "for ax in [ax1, ax2]:\n",
    "    ax.margins(x=0, y=0)\n",
    "    ax.grid()\n",
    "    ax.set_xlabel('Observed (tons/km$^2\\cdot$year)')\n",
    "    ax.set(xscale='log', yscale='log')\n",
    "    \n",
    "ax1.set_ylabel('Predicted (tons/km$^2\\cdot$year)')\n",
    "ax1.annotate('(a)', (0.05, 0.93), xycoords='axes fraction', fontsize='large')\n",
    "ax2.annotate('(b)', (0.05, 0.93), xycoords='axes fraction', fontsize='large')\n",
    "\n",
    "ax2.legend(loc=4)\n",
    "ax1.annotate\n",
    "fig.tight_layout()\n",
    "#fig.savefig('kict_and_yoon.pdf', format='')"
   ]
  },
  {
   "cell_type": "code",
   "execution_count": 7,
   "metadata": {},
   "outputs": [],
   "source": [
    "kict1 = 972*(attribute['Density']/1000)**1.039*attribute['D_min']**-0.825\n",
    "kict2 = 972*(attribute['Density']/1000)**1.039*attribute['D_max']**-0.825"
   ]
  },
  {
   "cell_type": "code",
   "execution_count": 17,
   "metadata": {},
   "outputs": [
    {
     "data": {
      "text/plain": [
       "3.085163401564369"
      ]
     },
     "execution_count": 17,
     "metadata": {},
     "output_type": "execute_result"
    }
   ],
   "source": [
    "(mape(kict1, mep_sy) + mape(kict2, mep_sy))/2"
   ]
  },
  {
   "cell_type": "code",
   "execution_count": 8,
   "metadata": {},
   "outputs": [
    {
     "data": {
      "text/plain": [
       "(378.24882118154335, 4.038856935208931)"
      ]
     },
     "execution_count": 8,
     "metadata": {},
     "output_type": "execute_result"
    }
   ],
   "source": [
    "(rmse(kict1, mep_sy) , mape(kict1, mep_sy))"
   ]
  },
  {
   "cell_type": "code",
   "execution_count": 9,
   "metadata": {},
   "outputs": [
    {
     "data": {
      "text/plain": [
       "(269.24978391034716, 2.1314698679198076)"
      ]
     },
     "execution_count": 9,
     "metadata": {},
     "output_type": "execute_result"
    }
   ],
   "source": [
    "(rmse(kict2, mep_sy) , mape(kict2, mep_sy))"
   ]
  },
  {
   "cell_type": "code",
   "execution_count": 10,
   "metadata": {},
   "outputs": [],
   "source": [
    "yoon1 = model_yoon(attribute['Area'], attribute['Avg_slope'], attribute['D_max'])*1.3\n",
    "yoon2 = model_yoon(attribute['Area'], attribute['Avg_slope'], attribute['D_min'])*1.3"
   ]
  },
  {
   "cell_type": "code",
   "execution_count": 20,
   "metadata": {},
   "outputs": [
    {
     "data": {
      "text/plain": [
       "65.08284839380924"
      ]
     },
     "execution_count": 20,
     "metadata": {},
     "output_type": "execute_result"
    }
   ],
   "source": [
    "(mape(yoon1, mep_sy) + mape(yoon2, mep_sy) )/2"
   ]
  },
  {
   "cell_type": "code",
   "execution_count": 12,
   "metadata": {},
   "outputs": [
    {
     "data": {
      "text/plain": [
       "(10549.038934454185, 92.02346368472574)"
      ]
     },
     "execution_count": 12,
     "metadata": {},
     "output_type": "execute_result"
    }
   ],
   "source": [
    "( , mape(yoon2, mep_sy))"
   ]
  },
  {
   "cell_type": "code",
   "execution_count": null,
   "metadata": {},
   "outputs": [],
   "source": []
  }
 ],
 "metadata": {
  "kernelspec": {
   "display_name": "Python 3",
   "language": "python",
   "name": "python3"
  },
  "language_info": {
   "codemirror_mode": {
    "name": "ipython",
    "version": 3
   },
   "file_extension": ".py",
   "mimetype": "text/x-python",
   "name": "python",
   "nbconvert_exporter": "python",
   "pygments_lexer": "ipython3",
   "version": "3.6.5"
  }
 },
 "nbformat": 4,
 "nbformat_minor": 2
}
